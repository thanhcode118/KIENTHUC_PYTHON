{
  "nbformat": 4,
  "nbformat_minor": 0,
  "metadata": {
    "colab": {
      "provenance": [],
      "toc_visible": true
    },
    "kernelspec": {
      "name": "python3",
      "display_name": "Python 3"
    },
    "language_info": {
      "name": "python"
    }
  },
  "cells": [
    {
      "cell_type": "code",
      "execution_count": 5,
      "metadata": {
        "id": "nrmyQXupW_u4"
      },
      "outputs": [],
      "source": [
        "s1=str()\n",
        "s2=str(\"Welcome\")"
      ]
    },
    {
      "cell_type": "code",
      "source": [
        "s=\"Programming\"\n",
        "print(s[0])\n",
        "print(s[1])\n",
        "print(len(s))\n",
        "print(s[len(s)-1])"
      ],
      "metadata": {
        "colab": {
          "base_uri": "https://localhost:8080/"
        },
        "id": "mEfrIPTjXY8O",
        "outputId": "cc97b0ef-0b25-4b3e-a332-237b108e6c3c"
      },
      "execution_count": 6,
      "outputs": [
        {
          "output_type": "stream",
          "name": "stdout",
          "text": [
            "P\n",
            "r\n",
            "11\n",
            "g\n"
          ]
        }
      ]
    },
    {
      "cell_type": "code",
      "source": [
        "print(s[-len(s)])\n",
        "print(s[-1])"
      ],
      "metadata": {
        "colab": {
          "base_uri": "https://localhost:8080/"
        },
        "id": "p2wmkX7ZXado",
        "outputId": "6904a790-0e39-4a74-8c28-2b6bac9797a7"
      },
      "execution_count": null,
      "outputs": [
        {
          "output_type": "stream",
          "name": "stdout",
          "text": [
            "P\n",
            "g\n"
          ]
        }
      ]
    },
    {
      "cell_type": "markdown",
      "source": [
        "****Cú pháp cắt String:****\n",
        "\n",
        "s[start : end : step]\n",
        "\n",
        "• Kết quả trả về String con từ index start đến index end – 1.\n",
        "\n",
        "• Start, end, step có thể vắng.\n",
        "• Mặc định: start = 0, end = len(s), step = 1\n"
      ],
      "metadata": {
        "id": "jkUZKBfeamWZ"
      }
    },
    {
      "cell_type": "code",
      "source": [
        "print(s[1:4])\n",
        "print(s[:4])\n",
        "print(s[4:])\n",
        "print(s[1:-1])\n",
        "print(s[3:1])"
      ],
      "metadata": {
        "colab": {
          "base_uri": "https://localhost:8080/"
        },
        "id": "Z5ivKEjaX-3t",
        "outputId": "a226c267-276c-4932-c989-fc084ba207c2"
      },
      "execution_count": null,
      "outputs": [
        {
          "output_type": "stream",
          "name": "stdout",
          "text": [
            "rog\n",
            "Prog\n",
            "ramming\n",
            "rogrammin\n",
            "\n"
          ]
        }
      ]
    },
    {
      "cell_type": "code",
      "source": [
        "s=s[:3] + \"X\" + s[4:]\n",
        "print(s)"
      ],
      "metadata": {
        "colab": {
          "base_uri": "https://localhost:8080/"
        },
        "id": "w0kGXn50XaaP",
        "outputId": "8850b772-812c-4a40-a540-254642de42b6"
      },
      "execution_count": null,
      "outputs": [
        {
          "output_type": "stream",
          "name": "stdout",
          "text": [
            "ProXramming\n"
          ]
        }
      ]
    },
    {
      "cell_type": "markdown",
      "source": [
        "****Duyệt Strings****\n",
        "\n",
        "Một String có thể lặp được → có thể sử dụng vòng lặp để duyệt\n",
        "\n",
        "tuần tự các ký tự trong String."
      ],
      "metadata": {
        "id": "5ZIU1Bera6RE"
      }
    },
    {
      "cell_type": "code",
      "source": [
        "s=\"Programming\"\n",
        "for ch in s:\n",
        "  print(ch, end=\"-\")"
      ],
      "metadata": {
        "colab": {
          "base_uri": "https://localhost:8080/"
        },
        "id": "zp2fFf7DXaYI",
        "outputId": "d171a09d-aa05-44ba-df80-3293ecbb909d"
      },
      "execution_count": null,
      "outputs": [
        {
          "output_type": "stream",
          "name": "stdout",
          "text": [
            "P-r-o-g-r-a-m-m-i-n-g-"
          ]
        }
      ]
    },
    {
      "cell_type": "code",
      "source": [
        "for i in range(1,len(s),2):\n",
        "  print(s[i],end=\"-\")"
      ],
      "metadata": {
        "colab": {
          "base_uri": "https://localhost:8080/"
        },
        "id": "6FFX5SYcXaVf",
        "outputId": "6bc48336-c247-4853-a056-543ff8c3a4d3"
      },
      "execution_count": null,
      "outputs": [
        {
          "output_type": "stream",
          "name": "stdout",
          "text": [
            "r-g-a-m-n-"
          ]
        }
      ]
    },
    {
      "cell_type": "markdown",
      "source": [
        "****Các toán tử trên String****\n",
        "\n",
        "• + : nối 2 String\n",
        "\n",
        "• * : lặp lại String n lần\n",
        "\n",
        "• in và not in: kiểm tra một String có nằm trong một String khác\n",
        "hay không"
      ],
      "metadata": {
        "id": "bT9njtBVbEiJ"
      }
    },
    {
      "cell_type": "code",
      "source": [
        "s1= \"Welcome\"\n",
        "s2= \"Python\"\n",
        "s=s1+ \" to \" + s2\n",
        "print(s)"
      ],
      "metadata": {
        "colab": {
          "base_uri": "https://localhost:8080/"
        },
        "id": "SZeCe4cdXaTf",
        "outputId": "90c499c7-22aa-4bf1-dde7-bad1b1cbe347"
      },
      "execution_count": null,
      "outputs": [
        {
          "output_type": "stream",
          "name": "stdout",
          "text": [
            "Welcome to Python\n"
          ]
        }
      ]
    },
    {
      "cell_type": "code",
      "source": [
        "s=input(\"Enter a string:\")\n",
        "if \"Python\" in s:\n",
        "  print(\"Python is in\",s)\n",
        "else:\n",
        "  print(\"Python is not in\",s)\n"
      ],
      "metadata": {
        "colab": {
          "base_uri": "https://localhost:8080/"
        },
        "id": "-Htw_QvTXaRa",
        "outputId": "5dd6db47-a36c-4723-cd8b-95de5a395c99"
      },
      "execution_count": null,
      "outputs": [
        {
          "output_type": "stream",
          "name": "stdout",
          "text": [
            "Enter a string:Pythosn is fun\n",
            "Python is in Pythosn is fun\n"
          ]
        }
      ]
    },
    {
      "cell_type": "markdown",
      "source": [
        "**** So sánh Strings****\n",
        "\n",
        "• Sử dụng các toán tử so sánh: ==,!=, >, >=, <,<=\n",
        "\n",
        "• Python so sánh lần lượt các ký tự tương ứng ở 2 chuỗi"
      ],
      "metadata": {
        "id": "ZQtkrcUgaPBW"
      }
    },
    {
      "cell_type": "code",
      "source": [
        "s1=\"apple\"\n",
        "s2=\"avocado\"\n",
        "print(s1 == s2)\n",
        "print(s1<s2)\n",
        "print(s1<=s2)"
      ],
      "metadata": {
        "colab": {
          "base_uri": "https://localhost:8080/"
        },
        "id": "7PvNqfwJXaPn",
        "outputId": "c7f8fc2f-40d4-4792-b1a8-32546644632a"
      },
      "execution_count": null,
      "outputs": [
        {
          "output_type": "stream",
          "name": "stdout",
          "text": [
            "False\n",
            "True\n",
            "True\n"
          ]
        }
      ]
    },
    {
      "cell_type": "markdown",
      "source": [
        "****Hàm built-in****\n",
        "\n",
        "• ord(ch): trả về mã ASCII của ký tự ch.\n",
        "\n",
        "• chr(code): trả về ký tương ứng với code\n"
      ],
      "metadata": {
        "id": "jfp2nSB6aHMj"
      }
    },
    {
      "cell_type": "code",
      "source": [
        "print(ord(\"A\"))\n",
        "print(chr(98))\n",
        "\n",
        "offset=ord(\"a\")-ord(\"A\")\n",
        "print(offset)\n",
        "lower=\"z\"\n",
        "upper= chr(ord(lower)-offset)\n",
        "print(upper)"
      ],
      "metadata": {
        "id": "LCbBs0WfXaNJ",
        "colab": {
          "base_uri": "https://localhost:8080/"
        },
        "outputId": "f39b8b3e-3c66-4478-d8e8-55b93e6f3c04"
      },
      "execution_count": 3,
      "outputs": [
        {
          "output_type": "stream",
          "name": "stdout",
          "text": [
            "65\n",
            "b\n",
            "32\n",
            "Z\n"
          ]
        }
      ]
    },
    {
      "cell_type": "markdown",
      "source": [
        "****Chuyển kiểu****\n",
        "\n",
        "• s.lower(): trả về bản sao của chuỗi ở dạng chữ thường\n",
        "\n",
        "• s.upper(): trả về bản sao của chuỗi ở dạng chữ in hoa\n",
        "\n",
        "• s.capitalize(): trả về bản sao của chuỗi với ký tự đầu tiên được chuyển\n",
        "sang in hoa\n",
        "\n",
        "• s.title(): trả về bản sao của chuỗi với ký tự đầu tiên của mỗi từ được\n",
        "chuyển sang in hoa\n",
        "\n",
        "• s.swapcase(): trả về bản sao của chuỗi với ký tự in thường chuyển sang\n",
        "in hoa và ngược lại\n",
        "\n",
        "• s.strip([<char>]): cắt bỏ những ký tự char ở đầu và cuối của\n",
        "chuỗi\n",
        "\n",
        "• Mặc định, char = None --> ký tự cách trắng sẽ bị cắt bỏ"
      ],
      "metadata": {
        "id": "dllZx7xQZ6Ga"
      }
    },
    {
      "cell_type": "code",
      "source": [
        "s1=\"Welcome to Programming\"\n",
        "print(s1.lower())\n",
        "print(s1.upper())\n",
        "print(s1.swapcase())"
      ],
      "metadata": {
        "id": "vo9xupyUXZ_7",
        "colab": {
          "base_uri": "https://localhost:8080/"
        },
        "outputId": "f7a89585-51b1-4f5b-ca4d-fd7f0f96a502"
      },
      "execution_count": 4,
      "outputs": [
        {
          "output_type": "stream",
          "name": "stdout",
          "text": [
            "welcome to programming\n",
            "WELCOME TO PROGRAMMING\n",
            "wELCOME TO pROGRAMMING\n"
          ]
        }
      ]
    },
    {
      "cell_type": "code",
      "source": [
        "s=\"***10***\"\n",
        "s.strip(\"*\")"
      ],
      "metadata": {
        "colab": {
          "base_uri": "https://localhost:8080/",
          "height": 35
        },
        "id": "NbdqvAVjUURq",
        "outputId": "6078cf28-6c00-4ca4-ddb4-0cac6f03a9d3"
      },
      "execution_count": 11,
      "outputs": [
        {
          "output_type": "execute_result",
          "data": {
            "text/plain": [
              "'10'"
            ],
            "application/vnd.google.colaboratory.intrinsic+json": {
              "type": "string"
            }
          },
          "metadata": {},
          "execution_count": 11
        }
      ]
    },
    {
      "cell_type": "markdown",
      "source": [
        "****Tìm kiếm và thay thế****\n",
        "\n",
        "• s.count(sub[,start[,end]]): đếm số lần xuất hiện chuỗi con trong\n",
        "chuỗi s\n",
        "\n",
        "• s.endswith(suffix[,start[,end]]): trả về True nếu chuỗi kết thúc với\n",
        "hậu tố suffix.\n",
        "\n",
        "• s.startswith(prefix[,start[,end]]): trả về True nếu chuỗi bắt đầu với\n",
        "tiền tố prefix."
      ],
      "metadata": {
        "id": "SmUInuAAZS3c"
      }
    },
    {
      "cell_type": "code",
      "source": [
        "s= \"Welcome to Python\"\n",
        "print(s.count(\"o\"))\n",
        "print(s.count(\"o\",7))\n",
        "print(s.endswith(\"thon\"))\n",
        "print(s.startswith(\"good\"))"
      ],
      "metadata": {
        "colab": {
          "base_uri": "https://localhost:8080/"
        },
        "id": "fKD71bSVUUP8",
        "outputId": "f5645675-fbe2-41ce-8a7a-a9b08c2240b2"
      },
      "execution_count": 17,
      "outputs": [
        {
          "output_type": "stream",
          "name": "stdout",
          "text": [
            "3\n",
            "2\n",
            "True\n",
            "False\n"
          ]
        }
      ]
    },
    {
      "cell_type": "markdown",
      "source": [
        "****Tìm kiếm và thay thế****\n",
        "\n",
        "• s.find(sub[,start[,end]]): trả về vị trí đầu tiên chuỗi con xuất hiện\n",
        "trong s, ngược lại trả về -1\n",
        "\n",
        "• s.replace(old, new): Trả về chuỗi mới thay thế vị trí chuỗi con old\n",
        "bằng chuỗi con new"
      ],
      "metadata": {
        "id": "BGoQMEjXZB5r"
      }
    },
    {
      "cell_type": "code",
      "source": [
        "print(s.find(\"come\"))\n",
        "print(s.find(\"become\"))"
      ],
      "metadata": {
        "colab": {
          "base_uri": "https://localhost:8080/"
        },
        "id": "RZfkyXv-UUNt",
        "outputId": "e162e8aa-9dc0-415c-de3c-a09e42ef13aa"
      },
      "execution_count": 18,
      "outputs": [
        {
          "output_type": "stream",
          "name": "stdout",
          "text": [
            "3\n",
            "-1\n"
          ]
        }
      ]
    },
    {
      "cell_type": "code",
      "source": [
        "s1=s.replace(\"Python\",\"Java\")\n",
        "print(s1)"
      ],
      "metadata": {
        "colab": {
          "base_uri": "https://localhost:8080/"
        },
        "id": "YA_3RuOPUUL5",
        "outputId": "d3cb48bd-da44-448f-b283-e9fb8c93b54d"
      },
      "execution_count": 19,
      "outputs": [
        {
          "output_type": "stream",
          "name": "stdout",
          "text": [
            "Welcome to Java\n"
          ]
        }
      ]
    },
    {
      "cell_type": "markdown",
      "source": [
        "****Kiểm tra loại ký tự****\n",
        "\n",
        "• s.isalnum(): trả về True nếu s khác rỗng và tất cả các ký tự của nó là\n",
        "chữ cái hoặc chữ số\n",
        "\n",
        "• s.isalpha(): trả về True nếu s khác rỗng và tất cả các ký tự của nó là\n",
        "chữ cái\n",
        "\n",
        "• s.isdigit(): trả về True nếu s khác rỗng và tất cả các ký tự của nó là\n",
        "chữ số\n"
      ],
      "metadata": {
        "id": "7OIFhYiRY4Jp"
      }
    },
    {
      "cell_type": "code",
      "source": [
        "s=\"python3\"\n",
        "print(s.isalnum())\n",
        "s=\"abc\"\n",
        "print(s.isalpha())\n",
        "s=\"2019\"\n",
        "print(s.isdigit())"
      ],
      "metadata": {
        "colab": {
          "base_uri": "https://localhost:8080/"
        },
        "id": "YTej_0lFXRg7",
        "outputId": "f8f695a9-eab6-477e-fa5f-f297f009ff26"
      },
      "execution_count": 24,
      "outputs": [
        {
          "output_type": "stream",
          "name": "stdout",
          "text": [
            "True\n",
            "True\n",
            "True\n"
          ]
        }
      ]
    },
    {
      "cell_type": "markdown",
      "source": [
        "****Kiểm tra loại ký tự****\n",
        "\n",
        "• s.islower(): trả về True nếu s khác rỗng và tất cả các ký tự của nó\n",
        "đều là chữ thường\n",
        "\n",
        "• s.isupper(): trả về True nếu s khác rỗng và tất cả các ký tự của nó\n",
        "đều là chữ in hoa"
      ],
      "metadata": {
        "id": "-fFTsDLzYgaK"
      }
    },
    {
      "cell_type": "code",
      "source": [
        "s=\"Hello\"\n",
        "print(s.islower())\n",
        "print(s.isupper())"
      ],
      "metadata": {
        "colab": {
          "base_uri": "https://localhost:8080/"
        },
        "id": "4Pq6k7wlXRdp",
        "outputId": "a2850121-6455-4285-9b18-752a2020c63d"
      },
      "execution_count": 26,
      "outputs": [
        {
          "output_type": "stream",
          "name": "stdout",
          "text": [
            "False\n",
            "False\n"
          ]
        }
      ]
    },
    {
      "cell_type": "markdown",
      "source": [
        "****Tách chuỗi****\n",
        "\n",
        "• s.split(sep=None, maxsplit=-1): tách chuỗi s thành danh sách các\n",
        "chuỗi con\n",
        "\n",
        "• Sep: ký tự dùng để tách chuỗi, mặc định là None (whitespace)\n",
        "\n",
        "• Maxsplit: số lần tách tối đa, mặc định là -1 (không giới hạns)"
      ],
      "metadata": {
        "id": "SGVfTNXVX_Xw"
      }
    },
    {
      "cell_type": "code",
      "source": [
        "s=\"This is split function\"\n",
        "items=s.split()\n",
        "print(items)"
      ],
      "metadata": {
        "colab": {
          "base_uri": "https://localhost:8080/"
        },
        "id": "gCD9_2_UXRbC",
        "outputId": "d58e89d8-1386-485f-b262-d8f61ab1b90d"
      },
      "execution_count": 27,
      "outputs": [
        {
          "output_type": "stream",
          "name": "stdout",
          "text": [
            "['This', 'is', 'split', 'function']\n"
          ]
        }
      ]
    },
    {
      "cell_type": "code",
      "source": [
        "date=\"20/11/2011\"\n",
        "items_1=date.split(sep='/')\n",
        "print(items_1)\n",
        "items_2=date.split(sep='/',maxsplit=1 )\n",
        "print(items_2)"
      ],
      "metadata": {
        "colab": {
          "base_uri": "https://localhost:8080/"
        },
        "id": "0Gn1xnprXRVH",
        "outputId": "fcb0abff-91f6-4fe0-b3bf-a55f468d5443"
      },
      "execution_count": 31,
      "outputs": [
        {
          "output_type": "stream",
          "name": "stdout",
          "text": [
            "['20', '11', '2011']\n",
            "['20', '11/2011']\n"
          ]
        }
      ]
    },
    {
      "cell_type": "code",
      "source": [],
      "metadata": {
        "id": "pNvTIsJMXRT4"
      },
      "execution_count": null,
      "outputs": []
    },
    {
      "cell_type": "code",
      "source": [],
      "metadata": {
        "id": "lT040WRZXRIc"
      },
      "execution_count": null,
      "outputs": []
    }
  ]
}